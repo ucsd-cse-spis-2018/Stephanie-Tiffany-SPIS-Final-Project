{
 "cells": [
  {
   "cell_type": "code",
   "execution_count": 5,
   "metadata": {},
   "outputs": [
    {
     "name": "stdout",
     "output_type": "stream",
     "text": [
      "Elliptic Envelope:99\n",
      "0.9965239984551104\n",
      "             precision    recall  f1-score   support\n",
      "\n",
      "          0       1.00      1.00      1.00     28432\n",
      "          1       0.00      0.00      0.00        49\n",
      "\n",
      "avg / total       1.00      1.00      1.00     28481\n",
      "\n"
     ]
    }
   ],
   "source": [
    "#import necessary packages and rename\n",
    "import sys                   #system-specific parameters and functions\n",
    "import numpy as np           #arrays, matrices, math functions library\n",
    "import pandas as pd          #data manipulation and analysis library\n",
    "import matplotlib.pyplot as plt     #plotting library\n",
    "import seaborn as sns        #data visualization library\n",
    "import scipy                 #scientific and technical computing library\n",
    "import sklearn               #classification, regression, clustering algorithms library\n",
    "from sklearn.metrics import classification_report, accuracy_score\n",
    "from sklearn.covariance import EllipticEnvelope\n",
    "\n",
    "#load the dataset from the csv file using pandas\n",
    "data = pd.read_csv('creditcard.csv') \n",
    "\n",
    "data = data.sample(frac=0.1, random_state = 1)\n",
    "\n",
    "#Determine number of fraud cases in dataset\n",
    "Fraud = data[data['Class'] == 1]\n",
    "Valid = data[data['Class'] == 0]\n",
    "\n",
    "outlier_fraction = len(Fraud) / float(len(Valid))\n",
    "#Get all the columns from the DataFrame\n",
    "columns = data.columns.tolist()\n",
    "\n",
    "#filter the columns to remove data we do not want\n",
    "columns = [c for c in columns if c not in [\"Class\"]]\n",
    "\n",
    "#store variable we will be predicting on\n",
    "target = \"Class\"\n",
    "\n",
    "X = data[columns]\n",
    "Y = data[target]\n",
    "\n",
    "state = 1\n",
    "\n",
    "#Fit the model\n",
    "n_outliers = len(Fraud)\n",
    "\n",
    "#splitter = StratifiedShuffleSplit(n_splits = 1, test_size=0.5, random_state=0)\n",
    "def normalize(X):\n",
    "    for feature in X.columns:\n",
    "        X[feature] -= X[feature].mean()\n",
    "        X[feature] /= X[feature].std()\n",
    "    return X\n",
    "\n",
    "clf = EllipticEnvelope(contamination=outlier_fraction, support_fraction=1)\n",
    "clf.fit(X)\n",
    "y_pred = clf.predict(X)\n",
    "scores_pred = clf.decision_function(X)\n",
    "\n",
    "y_pred[y_pred==1] = 0\n",
    "y_pred[y_pred==-1]= 1\n",
    "\n",
    "n_errors = (y_pred != Y).sum()\n",
    "\n",
    "#run classification metrics\n",
    "print('{}:{}'.format(\"Elliptic Envelope\", n_errors))\n",
    "print(accuracy_score(Y, y_pred))\n",
    "print(classification_report(Y, y_pred))"
   ]
  },
  {
   "cell_type": "code",
   "execution_count": null,
   "metadata": {},
   "outputs": [],
   "source": []
  }
 ],
 "metadata": {
  "kernelspec": {
   "display_name": "Python 3",
   "language": "python",
   "name": "python3"
  },
  "language_info": {
   "codemirror_mode": {
    "name": "ipython",
    "version": 3
   },
   "file_extension": ".py",
   "mimetype": "text/x-python",
   "name": "python",
   "nbconvert_exporter": "python",
   "pygments_lexer": "ipython3",
   "version": "3.6.5"
  }
 },
 "nbformat": 4,
 "nbformat_minor": 2
}
